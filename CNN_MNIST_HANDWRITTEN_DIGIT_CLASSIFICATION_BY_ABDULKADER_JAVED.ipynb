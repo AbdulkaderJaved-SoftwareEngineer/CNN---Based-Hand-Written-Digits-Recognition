{
  "nbformat": 4,
  "nbformat_minor": 0,
  "metadata": {
    "colab": {
      "provenance": [],
      "gpuType": "T4"
    },
    "kernelspec": {
      "name": "python3",
      "display_name": "Python 3"
    },
    "language_info": {
      "name": "python"
    },
    "accelerator": "GPU"
  },
  "cells": [
    {
      "cell_type": "code",
      "source": [
        "import tensorflow as tf\n",
        "from tensorflow import keras\n",
        "from keras import Sequential\n",
        "from keras.layers import Dense,Conv2D,MaxPool2D,Flatten\n",
        "import numpy as np\n",
        "import pandas as pd\n",
        "import matplotlib.pyplot as plt"
      ],
      "metadata": {
        "id": "5Na6pDR8S6AT"
      },
      "execution_count": 3,
      "outputs": []
    },
    {
      "cell_type": "code",
      "source": [
        "x_train = pd.read_csv('/content/sample_data/mnist_train_small.csv')"
      ],
      "metadata": {
        "id": "AVRiKzr0U9tD"
      },
      "execution_count": 4,
      "outputs": []
    },
    {
      "cell_type": "code",
      "source": [
        "y_train = x_train.iloc[:,:1]\n"
      ],
      "metadata": {
        "id": "3Y3FMB7GXIA9"
      },
      "execution_count": 5,
      "outputs": []
    },
    {
      "cell_type": "code",
      "source": [
        "x_train.shape"
      ],
      "metadata": {
        "colab": {
          "base_uri": "https://localhost:8080/"
        },
        "id": "5NJ7WGrzZFr5",
        "outputId": "de389014-3801-468a-9d5c-a8e5ef115f21"
      },
      "execution_count": 6,
      "outputs": [
        {
          "output_type": "execute_result",
          "data": {
            "text/plain": [
              "(19999, 785)"
            ]
          },
          "metadata": {},
          "execution_count": 6
        }
      ]
    },
    {
      "cell_type": "code",
      "source": [
        "x_train.drop(columns =x_train.iloc[:,:1],inplace=True)"
      ],
      "metadata": {
        "id": "vBPHbp4YYzXz"
      },
      "execution_count": 7,
      "outputs": []
    },
    {
      "cell_type": "code",
      "source": [
        "x_train.shape"
      ],
      "metadata": {
        "colab": {
          "base_uri": "https://localhost:8080/"
        },
        "id": "8vfe5uwBY_46",
        "outputId": "97dea4a0-5981-4b7b-a124-744eb06f5279"
      },
      "execution_count": 8,
      "outputs": [
        {
          "output_type": "execute_result",
          "data": {
            "text/plain": [
              "(19999, 784)"
            ]
          },
          "metadata": {},
          "execution_count": 8
        }
      ]
    },
    {
      "cell_type": "code",
      "source": [
        "x_train = x_train.to_numpy()\n",
        "y_train = y_train.to_numpy()"
      ],
      "metadata": {
        "id": "f4YEstK-VMZp"
      },
      "execution_count": 9,
      "outputs": []
    },
    {
      "cell_type": "code",
      "source": [
        "x_reshaped = np.reshape(x_train,(x_train.shape[0],28,28))"
      ],
      "metadata": {
        "id": "mb39Gu2-VzOm"
      },
      "execution_count": 10,
      "outputs": []
    },
    {
      "cell_type": "code",
      "source": [
        "x_reshaped.ndim"
      ],
      "metadata": {
        "colab": {
          "base_uri": "https://localhost:8080/"
        },
        "id": "g8Ra2wH7WhpT",
        "outputId": "0ec5e26e-debd-46db-e210-1b4cbd7ee603"
      },
      "execution_count": 11,
      "outputs": [
        {
          "output_type": "execute_result",
          "data": {
            "text/plain": [
              "3"
            ]
          },
          "metadata": {},
          "execution_count": 11
        }
      ]
    },
    {
      "cell_type": "code",
      "source": [
        "x_reshaped.shape"
      ],
      "metadata": {
        "colab": {
          "base_uri": "https://localhost:8080/"
        },
        "id": "GU07ORwCZomU",
        "outputId": "e4f7b808-935a-44ae-e3a7-da506cd5f16c"
      },
      "execution_count": 12,
      "outputs": [
        {
          "output_type": "execute_result",
          "data": {
            "text/plain": [
              "(19999, 28, 28)"
            ]
          },
          "metadata": {},
          "execution_count": 12
        }
      ]
    },
    {
      "cell_type": "code",
      "source": [
        "plt.imshow(x_reshaped[0])"
      ],
      "metadata": {
        "colab": {
          "base_uri": "https://localhost:8080/",
          "height": 447
        },
        "id": "oUoFU4ULekzX",
        "outputId": "9be9df81-7b7a-485c-890e-61f8d7ca8a1d"
      },
      "execution_count": 13,
      "outputs": [
        {
          "output_type": "execute_result",
          "data": {
            "text/plain": [
              "<matplotlib.image.AxesImage at 0x7f6f73a28520>"
            ]
          },
          "metadata": {},
          "execution_count": 13
        },
        {
          "output_type": "display_data",
          "data": {
            "text/plain": [
              "<Figure size 640x480 with 1 Axes>"
            ],
            "image/png": "[encoded data removed]"
          },
          "metadata": {}
        }
      ]
    },
    {
      "cell_type": "code",
      "source": [
        "model = Sequential()\n",
        "\n",
        "model.add(Conv2D(4,kernel_size = (3,3),activation='relu',input_shape = (28,28,1)))\n",
        "model.add(MaxPool2D(pool_size=(2,2),strides = 2))\n",
        "\n",
        "\n",
        "model.add(Conv2D(6,kernel_size = (3,3),activation='relu',input_shape = (28,28,1)))\n",
        "model.add(MaxPool2D(pool_size=(2,2),strides = 2))\n",
        "\n",
        "\n",
        "\n",
        "model.add(Conv2D(7,kernel_size = (3,3),activation='relu',input_shape = (28,28,1)))\n",
        "model.add(MaxPool2D(pool_size=(2,2),strides = 2))\n",
        "\n",
        "\n",
        "\n",
        "# Flatten Layer -\n",
        "model.add(Flatten())\n",
        "\n",
        "\n",
        "# Dense Layer\n",
        "model.add(Dense(128,activation='relu'))\n",
        "\n",
        "# Output Layer\n",
        "model.add(Dense(10,activation='softmax'))\n",
        "\n",
        "\n",
        "\n"
      ],
      "metadata": {
        "id": "I4WzXv-mezKy"
      },
      "execution_count": 14,
      "outputs": []
    },
    {
      "cell_type": "code",
      "source": [
        "model.summary()"
      ],
      "metadata": {
        "colab": {
          "base_uri": "https://localhost:8080/"
        },
        "id": "qS260rZihts_",
        "outputId": "65646494-d466-4b05-eb71-13fac4abd849"
      },
      "execution_count": 15,
      "outputs": [
        {
          "output_type": "stream",
          "name": "stdout",
          "text": [
            "Model: \"sequential\"\n",
            "_________________________________________________________________\n",
            " Layer (type)                Output Shape              Param #   \n",
            "=================================================================\n",
            " conv2d (Conv2D)             (None, 26, 26, 4)         40        \n",
            "                                                                 \n",
            " max_pooling2d (MaxPooling2  (None, 13, 13, 4)         0         \n",
            " D)                                                              \n",
            "                                                                 \n",
            " conv2d_1 (Conv2D)           (None, 11, 11, 6)         222       \n",
            "                                                                 \n",
            " max_pooling2d_1 (MaxPoolin  (None, 5, 5, 6)           0         \n",
            " g2D)                                                            \n",
            "                                                                 \n",
            " conv2d_2 (Conv2D)           (None, 3, 3, 7)           385       \n",
            "                                                                 \n",
            " max_pooling2d_2 (MaxPoolin  (None, 1, 1, 7)           0         \n",
            " g2D)                                                            \n",
            "                                                                 \n",
            " flatten (Flatten)           (None, 7)                 0         \n",
            "                                                                 \n",
            " dense (Dense)               (None, 128)               1024      \n",
            "                                                                 \n",
            " dense_1 (Dense)             (None, 10)                1290      \n",
            "                                                                 \n",
            "=================================================================\n",
            "Total params: 2961 (11.57 KB)\n",
            "Trainable params: 2961 (11.57 KB)\n",
            "Non-trainable params: 0 (0.00 Byte)\n",
            "_________________________________________________________________\n"
          ]
        }
      ]
    },
    {
      "cell_type": "code",
      "source": [
        "model.compile(optimizer='Adam',loss='sparse_categorical_crossentropy',metrics=['accuracy'])"
      ],
      "metadata": {
        "id": "jiCawCsgiNry"
      },
      "execution_count": 19,
      "outputs": []
    },
    {
      "cell_type": "code",
      "source": [
        "history = model.fit(x_reshaped,y_train,epochs=15)"
      ],
      "metadata": {
        "colab": {
          "base_uri": "https://localhost:8080/"
        },
        "id": "3pfLNPsFiVZC",
        "outputId": "cbeda22e-ac56-4c7c-eb94-66d3a53395ea"
      },
      "execution_count": 20,
      "outputs": [
        {
          "output_type": "stream",
          "name": "stdout",
          "text": [
            "Epoch 1/15\n",
            "625/625 [==============================] - 8s 5ms/step - loss: 1.3835 - accuracy: 0.5177\n",
            "Epoch 2/15\n",
            "625/625 [==============================] - 2s 4ms/step - loss: 0.6471 - accuracy: 0.7884\n",
            "Epoch 3/15\n",
            "625/625 [==============================] - 2s 4ms/step - loss: 0.4462 - accuracy: 0.8608\n",
            "Epoch 4/15\n",
            "625/625 [==============================] - 2s 4ms/step - loss: 0.3747 - accuracy: 0.8838\n",
            "Epoch 5/15\n",
            "625/625 [==============================] - 2s 4ms/step - loss: 0.3365 - accuracy: 0.8954\n",
            "Epoch 6/15\n",
            "625/625 [==============================] - 3s 5ms/step - loss: 0.3120 - accuracy: 0.9036\n",
            "Epoch 7/15\n",
            "625/625 [==============================] - 2s 4ms/step - loss: 0.2935 - accuracy: 0.9065\n",
            "Epoch 8/15\n",
            "625/625 [==============================] - 3s 4ms/step - loss: 0.2790 - accuracy: 0.9114\n",
            "Epoch 9/15\n",
            "625/625 [==============================] - 2s 4ms/step - loss: 0.2625 - accuracy: 0.9175\n",
            "Epoch 10/15\n",
            "625/625 [==============================] - 2s 4ms/step - loss: 0.2566 - accuracy: 0.9188\n",
            "Epoch 11/15\n",
            "625/625 [==============================] - 3s 5ms/step - loss: 0.2477 - accuracy: 0.9226\n",
            "Epoch 12/15\n",
            "625/625 [==============================] - 2s 4ms/step - loss: 0.2386 - accuracy: 0.9243\n",
            "Epoch 13/15\n",
            "625/625 [==============================] - 2s 4ms/step - loss: 0.2323 - accuracy: 0.9255\n",
            "Epoch 14/15\n",
            "625/625 [==============================] - 2s 4ms/step - loss: 0.2261 - accuracy: 0.9272\n",
            "Epoch 15/15\n",
            "625/625 [==============================] - 3s 4ms/step - loss: 0.2212 - accuracy: 0.9277\n"
          ]
        }
      ]
    },
    {
      "cell_type": "code",
      "source": [
        "x_test = pd.read_csv('/content/sample_data/mnist_test.csv')"
      ],
      "metadata": {
        "id": "X0Lp5mpAipIs"
      },
      "execution_count": 21,
      "outputs": []
    },
    {
      "cell_type": "code",
      "source": [
        "y_test = x_test.iloc[:,:1]"
      ],
      "metadata": {
        "id": "hKxwZ3Tci52B"
      },
      "execution_count": 22,
      "outputs": []
    },
    {
      "cell_type": "code",
      "source": [
        "x_test.drop(columns =x_test.iloc[:,:1],inplace=True)"
      ],
      "metadata": {
        "id": "o9cMAuK_i9i2"
      },
      "execution_count": 23,
      "outputs": []
    },
    {
      "cell_type": "code",
      "source": [
        "x_test = x_test.to_numpy()\n",
        "y_test = y_test.to_numpy()"
      ],
      "metadata": {
        "id": "HkeiGUyzjE6j"
      },
      "execution_count": 24,
      "outputs": []
    },
    {
      "cell_type": "code",
      "source": [
        "x_test_reshaped = np.reshape(x_test,(x_test.shape[0],28,28))"
      ],
      "metadata": {
        "id": "8nuPRjnRjNOx"
      },
      "execution_count": 25,
      "outputs": []
    },
    {
      "cell_type": "code",
      "source": [
        "x_test_reshaped[0].shape"
      ],
      "metadata": {
        "colab": {
          "base_uri": "https://localhost:8080/"
        },
        "id": "mN9al1zVjUYh",
        "outputId": "b07e4846-2d25-4e17-8226-4861777c3366"
      },
      "execution_count": 28,
      "outputs": [
        {
          "output_type": "execute_result",
          "data": {
            "text/plain": [
              "(28, 28)"
            ]
          },
          "metadata": {},
          "execution_count": 28
        }
      ]
    },
    {
      "cell_type": "code",
      "source": [
        "y_pred = model.predict(x_test_reshaped)"
      ],
      "metadata": {
        "colab": {
          "base_uri": "https://localhost:8080/"
        },
        "id": "2d4pKtlLjcp8",
        "outputId": "405df8d1-481d-4b6a-ec49-ee992eb7ce62"
      },
      "execution_count": 30,
      "outputs": [
        {
          "output_type": "stream",
          "name": "stdout",
          "text": [
            "313/313 [==============================] - 1s 2ms/step\n"
          ]
        }
      ]
    },
    {
      "cell_type": "code",
      "source": [
        "y_pred.argmax(axis=1)"
      ],
      "metadata": {
        "colab": {
          "base_uri": "https://localhost:8080/"
        },
        "id": "QG7HJERPjiDm",
        "outputId": "49cbe5e4-1d7f-4735-c8fd-08b556488446"
      },
      "execution_count": 31,
      "outputs": [
        {
          "output_type": "execute_result",
          "data": {
            "text/plain": [
              "array([2, 1, 0, ..., 4, 9, 6])"
            ]
          },
          "metadata": {},
          "execution_count": 31
        }
      ]
    },
    {
      "cell_type": "code",
      "source": [
        "model.evaluate(x_test_reshaped,y_test)"
      ],
      "metadata": {
        "colab": {
          "base_uri": "https://localhost:8080/"
        },
        "id": "6fHLaoMbjsEp",
        "outputId": "13e88789-e778-4028-dac0-3adc2d42b8f8"
      },
      "execution_count": 33,
      "outputs": [
        {
          "output_type": "stream",
          "name": "stdout",
          "text": [
            "313/313 [==============================] - 1s 2ms/step - loss: 0.2332 - accuracy: 0.9266\n"
          ]
        },
        {
          "output_type": "execute_result",
          "data": {
            "text/plain": [
              "[0.23315945267677307, 0.9265926480293274]"
            ]
          },
          "metadata": {},
          "execution_count": 33
        }
      ]
    },
    {
      "cell_type": "code",
      "source": [
        "plt.imshow(x_test_reshaped[2])"
      ],
      "metadata": {
        "colab": {
          "base_uri": "https://localhost:8080/",
          "height": 447
        },
        "id": "oB5hMEofj1yB",
        "outputId": "48cab80a-2bd5-4d18-c316-b4dc8aeea4f3"
      },
      "execution_count": 37,
      "outputs": [
        {
          "output_type": "execute_result",
          "data": {
            "text/plain": [
              "<matplotlib.image.AxesImage at 0x7f6eec05fe50>"
            ]
          },
          "metadata": {},
          "execution_count": 37
        },
        {
          "output_type": "display_data",
          "data": {
            "text/plain": [
              "<Figure size 640x480 with 1 Axes>"
            ],
            "image/png": "[encoded data removed]"
          },
          "metadata": {}
        }
      ]
    },
    {
      "cell_type": "code",
      "source": [
        "import cv2 as cv\n",
        "\n",
        "test_img = cv.imread('/content/4.jpg')\n",
        "\n",
        "test_img = test_img/255\n",
        "\n"
      ],
      "metadata": {
        "id": "4baI1KEdkkga"
      },
      "execution_count": 53,
      "outputs": []
    },
    {
      "cell_type": "code",
      "source": [],
      "metadata": {
        "id": "giDRw9EAm2ua"
      },
      "execution_count": null,
      "outputs": []
    },
    {
      "cell_type": "code",
      "source": [],
      "metadata": {
        "id": "hvurbUM8mYjD"
      },
      "execution_count": null,
      "outputs": []
    }
  ]
}